{
  "nbformat": 4,
  "nbformat_minor": 0,
  "metadata": {
    "colab": {
      "provenance": []
    },
    "kernelspec": {
      "name": "python3",
      "display_name": "Python 3"
    },
    "language_info": {
      "name": "python"
    }
  },
  "cells": [
    {
      "cell_type": "code",
      "source": [
        "!pip install torch transformers faiss-cpu PyPDF2"
      ],
      "metadata": {
        "colab": {
          "base_uri": "https://localhost:8080/"
        },
        "id": "X3cw4eBffHuQ",
        "outputId": "8eebc192-2896-4692-b94f-62fe1f4b5957"
      },
      "execution_count": 25,
      "outputs": [
        {
          "output_type": "stream",
          "name": "stdout",
          "text": [
            "Requirement already satisfied: torch in /usr/local/lib/python3.10/dist-packages (2.5.1+cu121)\n",
            "Requirement already satisfied: transformers in /usr/local/lib/python3.10/dist-packages (4.46.2)\n",
            "Requirement already satisfied: faiss-cpu in /usr/local/lib/python3.10/dist-packages (1.9.0)\n",
            "Requirement already satisfied: PyPDF2 in /usr/local/lib/python3.10/dist-packages (3.0.1)\n",
            "Requirement already satisfied: filelock in /usr/local/lib/python3.10/dist-packages (from torch) (3.16.1)\n",
            "Requirement already satisfied: typing-extensions>=4.8.0 in /usr/local/lib/python3.10/dist-packages (from torch) (4.12.2)\n",
            "Requirement already satisfied: networkx in /usr/local/lib/python3.10/dist-packages (from torch) (3.4.2)\n",
            "Requirement already satisfied: jinja2 in /usr/local/lib/python3.10/dist-packages (from torch) (3.1.4)\n",
            "Requirement already satisfied: fsspec in /usr/local/lib/python3.10/dist-packages (from torch) (2024.10.0)\n",
            "Requirement already satisfied: sympy==1.13.1 in /usr/local/lib/python3.10/dist-packages (from torch) (1.13.1)\n",
            "Requirement already satisfied: mpmath<1.4,>=1.1.0 in /usr/local/lib/python3.10/dist-packages (from sympy==1.13.1->torch) (1.3.0)\n",
            "Requirement already satisfied: huggingface-hub<1.0,>=0.23.2 in /usr/local/lib/python3.10/dist-packages (from transformers) (0.26.2)\n",
            "Requirement already satisfied: numpy>=1.17 in /usr/local/lib/python3.10/dist-packages (from transformers) (1.26.4)\n",
            "Requirement already satisfied: packaging>=20.0 in /usr/local/lib/python3.10/dist-packages (from transformers) (24.2)\n",
            "Requirement already satisfied: pyyaml>=5.1 in /usr/local/lib/python3.10/dist-packages (from transformers) (6.0.2)\n",
            "Requirement already satisfied: regex!=2019.12.17 in /usr/local/lib/python3.10/dist-packages (from transformers) (2024.9.11)\n",
            "Requirement already satisfied: requests in /usr/local/lib/python3.10/dist-packages (from transformers) (2.32.3)\n",
            "Requirement already satisfied: safetensors>=0.4.1 in /usr/local/lib/python3.10/dist-packages (from transformers) (0.4.5)\n",
            "Requirement already satisfied: tokenizers<0.21,>=0.20 in /usr/local/lib/python3.10/dist-packages (from transformers) (0.20.3)\n",
            "Requirement already satisfied: tqdm>=4.27 in /usr/local/lib/python3.10/dist-packages (from transformers) (4.66.6)\n",
            "Requirement already satisfied: MarkupSafe>=2.0 in /usr/local/lib/python3.10/dist-packages (from jinja2->torch) (3.0.2)\n",
            "Requirement already satisfied: charset-normalizer<4,>=2 in /usr/local/lib/python3.10/dist-packages (from requests->transformers) (3.4.0)\n",
            "Requirement already satisfied: idna<4,>=2.5 in /usr/local/lib/python3.10/dist-packages (from requests->transformers) (3.10)\n",
            "Requirement already satisfied: urllib3<3,>=1.21.1 in /usr/local/lib/python3.10/dist-packages (from requests->transformers) (2.2.3)\n",
            "Requirement already satisfied: certifi>=2017.4.17 in /usr/local/lib/python3.10/dist-packages (from requests->transformers) (2024.8.30)\n"
          ]
        }
      ]
    },
    {
      "cell_type": "code",
      "source": [
        "import PyPDF2\n",
        "from transformers import BertTokenizer, BertModel, BertForQuestionAnswering\n",
        "import torch\n",
        "import faiss\n",
        "\n",
        "# Load BERT Tokenizer and Model for Dense Retrieval (Embedding)\n",
        "tokenizer = BertTokenizer.from_pretrained('bert-base-uncased')\n",
        "model = BertModel.from_pretrained('bert-base-uncased')\n",
        "\n",
        "# Define function to get embeddings for a document (or corpus)\n",
        "def get_embeddings(texts):\n",
        "    inputs = tokenizer(texts, return_tensors='pt', padding=True, truncation=True, max_length=512)\n",
        "    with torch.no_grad():\n",
        "        outputs = model(**inputs)\n",
        "    embeddings = outputs.last_hidden_state.mean(dim=1)  # Mean Pooling to get a single vector per document\n",
        "    return embeddings\n",
        "\n",
        "# Function to extract text from PDF\n",
        "def extract_text_from_pdf(pdf_path):\n",
        "    with open(pdf_path, \"rb\") as file:\n",
        "        reader = PyPDF2.PdfReader(file)\n",
        "        text = \"\"\n",
        "        for page in reader.pages:\n",
        "            text += page.extract_text()\n",
        "    return text\n",
        "\n",
        "# Function to get the answer from a context using QA model\n",
        "def get_answer(question, context):\n",
        "    inputs = tokenizer.encode_plus(question, context, return_tensors='pt', padding=True, truncation=True, max_length=512)\n",
        "    with torch.no_grad():\n",
        "        outputs = qa_model(**inputs)\n",
        "    start_scores, end_scores = outputs.start_logits, outputs.end_logits\n",
        "    start_idx = torch.argmax(start_scores)\n",
        "    end_idx = torch.argmax(end_scores)\n",
        "    answer = tokenizer.convert_tokens_to_string(tokenizer.convert_ids_to_tokens(inputs.input_ids[0][start_idx:end_idx+1]))\n",
        "    return answer\n",
        "\n",
        "# Load BERT QA Model (Pre-trained)\n",
        "qa_model = BertForQuestionAnswering.from_pretrained('bert-large-uncased-whole-word-masking-finetuned-squad')\n",
        "\n",
        "# Function to process PDF and answer questions\n",
        "def query_pdf(pdf_path, question):\n",
        "    # Extract text from PDF\n",
        "    pdf_text = extract_text_from_pdf(pdf_path)\n",
        "\n",
        "    # Split text into chunks for retrieval (if needed, can split by sentences or paragraphs)\n",
        "    corpus = [pdf_text]  # If your PDF is small, you can keep it as a single document\n",
        "\n",
        "    # Get embeddings for the corpus\n",
        "    corpus_embeddings = get_embeddings(corpus)\n",
        "\n",
        "    # Build FAISS index for fast retrieval\n",
        "    faiss_index = faiss.IndexFlatL2(corpus_embeddings.shape[1])  # Use L2 distance for cosine similarity\n",
        "    faiss_index.add(corpus_embeddings.numpy())  # Add embeddings to FAISS index\n",
        "\n",
        "    # Query the system (perform dense retrieval)\n",
        "    query_embedding = get_embeddings([question])\n",
        "    D, I = faiss_index.search(query_embedding.numpy(), k=1)  # k=1 retrieves the most relevant document\n",
        "\n",
        "    # Extract the answer using the most relevant document\n",
        "    retrieved_doc = corpus[I[0][0]]\n",
        "    answer = get_answer(question, retrieved_doc)\n",
        "\n",
        "    return retrieved_doc, answer\n"
      ],
      "metadata": {
        "colab": {
          "base_uri": "https://localhost:8080/"
        },
        "id": "J-XrG2k4e9A_",
        "outputId": "47083ed5-a7ff-4cd5-c0ed-d68b6420f88f"
      },
      "execution_count": 26,
      "outputs": [
        {
          "output_type": "stream",
          "name": "stderr",
          "text": [
            "Some weights of the model checkpoint at bert-large-uncased-whole-word-masking-finetuned-squad were not used when initializing BertForQuestionAnswering: ['bert.pooler.dense.bias', 'bert.pooler.dense.weight']\n",
            "- This IS expected if you are initializing BertForQuestionAnswering from the checkpoint of a model trained on another task or with another architecture (e.g. initializing a BertForSequenceClassification model from a BertForPreTraining model).\n",
            "- This IS NOT expected if you are initializing BertForQuestionAnswering from the checkpoint of a model that you expect to be exactly identical (initializing a BertForSequenceClassification model from a BertForSequenceClassification model).\n"
          ]
        }
      ]
    },
    {
      "cell_type": "code",
      "source": [
        "# Interactive Chatbot\n",
        "print(\"Chatbot is ready! Ask a question related to the PDF. Type 'exit' to quit.\")\n",
        "while True:\n",
        "    question = input(\"You: \")\n",
        "    if question.lower() == 'exit':\n",
        "        print(\"Exiting the chatbot.\")\n",
        "        break\n",
        "\n",
        "    # Set the path to your PDF file\n",
        "    pdf_path = \"/content/Title_ Robotics and Future Advancements in AI Subtitle_ Exploring the Role of Robotics in AI Evolution (1).pdf\"  # Replace with your PDF path\n",
        "    retrieved_doc, answer = query_pdf(pdf_path, question)\n",
        "\n",
        "    print(f\"Retrieved Document: {retrieved_doc[:500]}...\")  # Print first 500 chars of the document for context\n",
        "    print(f\"Answer: {answer}\")"
      ],
      "metadata": {
        "colab": {
          "base_uri": "https://localhost:8080/"
        },
        "id": "9glVcSdrfDye",
        "outputId": "03cf5703-f340-4683-b540-3a4031699bb1"
      },
      "execution_count": 28,
      "outputs": [
        {
          "output_type": "stream",
          "name": "stdout",
          "text": [
            "Chatbot is ready! Ask a question related to the PDF. Type 'exit' to quit.\n",
            "You: what are the types of robots?\n",
            "Retrieved Document: Title: Robotics and Future Advancements in AI \n",
            "Subtitle : Exploring the Role of Robotics in AI Evolution \n",
            "Introduction to Robotics \n",
            "Definition : Robots are machines that can perform tasks autonomously or semi-autonomously. \n",
            "Applications : Manufacturing, healthcare, logistics, military, and space exploration. \n",
            "Types of Robots :\n",
            "Industrial Robots : Used in assembly lines and manufacturing. \n",
            "Service Robots : Used for personal assistance, cleaning, etc. \n",
            "Autonomous Vehicles : Self-driving cars, dron...\n",
            "Answer: industrial robots\n",
            "You: what are the current trends of industries and robots?\n",
            "Retrieved Document: Title: Robotics and Future Advancements in AI \n",
            "Subtitle : Exploring the Role of Robotics in AI Evolution \n",
            "Introduction to Robotics \n",
            "Definition : Robots are machines that can perform tasks autonomously or semi-autonomously. \n",
            "Applications : Manufacturing, healthcare, logistics, military, and space exploration. \n",
            "Types of Robots :\n",
            "Industrial Robots : Used in assembly lines and manufacturing. \n",
            "Service Robots : Used for personal assistance, cleaning, etc. \n",
            "Autonomous Vehicles : Self-driving cars, dron...\n",
            "Answer: collaborative robots ( cobots ) : robots that work alongside humans in shared workspaces\n",
            "You: what is meant by ai integration?\n",
            "Retrieved Document: Title: Robotics and Future Advancements in AI \n",
            "Subtitle : Exploring the Role of Robotics in AI Evolution \n",
            "Introduction to Robotics \n",
            "Definition : Robots are machines that can perform tasks autonomously or semi-autonomously. \n",
            "Applications : Manufacturing, healthcare, logistics, military, and space exploration. \n",
            "Types of Robots :\n",
            "Industrial Robots : Used in assembly lines and manufacturing. \n",
            "Service Robots : Used for personal assistance, cleaning, etc. \n",
            "Autonomous Vehicles : Self-driving cars, dron...\n",
            "Answer: ai enables robots to perform complex tasks and learn from their environment\n",
            "You: exit\n",
            "Exiting the chatbot.\n"
          ]
        }
      ]
    }
  ]
}