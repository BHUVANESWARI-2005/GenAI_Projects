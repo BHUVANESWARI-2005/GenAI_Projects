{
  "nbformat": 4,
  "nbformat_minor": 0,
  "metadata": {
    "colab": {
      "provenance": []
    },
    "kernelspec": {
      "name": "python3",
      "display_name": "Python 3"
    },
    "language_info": {
      "name": "python"
    }
  },
  "cells": [
    {
      "cell_type": "code",
      "source": [
        "import tensorflow as tf\n",
        "from tensorflow.keras.datasets import mnist\n",
        "from tensorflow.keras.models import Sequential\n",
        "from tensorflow.keras.layers import Dense, Flatten\n",
        "\n",
        "# Load and preprocess MNIST dataset\n",
        "(x_train, y_train), (x_test, y_test) = mnist.load_data()\n",
        "x_train, x_test = x_train / 255.0, x_test / 255.0\n",
        "\n",
        "# Define a simple model\n",
        "model = Sequential([\n",
        "    Flatten(input_shape=(28, 28)),\n",
        "    Dense(128, activation='relu'),\n",
        "    Dense(10, activation='softmax')\n",
        "])\n",
        "\n",
        "# Compile and train the model\n",
        "model.compile(optimizer='adam', loss='sparse_categorical_crossentropy', metrics=['accuracy'])\n",
        "model.fit(x_train, y_train, epochs=5, validation_data=(x_test, y_test))  # Train for 1 epoch for quick demonstration\n",
        "\n",
        "# Save the trained model\n",
        "model.save(\"mnist_model.h5\")\n",
        "\n",
        "# Convert the model to TensorFlow Lite format with quantization\n",
        "converter = tf.lite.TFLiteConverter.from_keras_model(model)\n",
        "\n",
        "# Apply dynamic range quantization\n",
        "converter.optimizations = [tf.lite.Optimize.DEFAULT]\n",
        "\n",
        "# Convert the model\n",
        "quantized_model = converter.convert()\n",
        "\n",
        "# Save the quantized model\n",
        "with open(\"mnist_model_quantized.tflite\", \"wb\") as f:\n",
        "    f.write(quantized_model)\n",
        "\n",
        "print(\"Quantized model saved as 'mnist_model_quantized.tflite'.\")\n",
        "\n",
        "# Evaluate the quantized model\n",
        "interpreter = tf.lite.Interpreter(model_path=\"mnist_model_quantized.tflite\")\n",
        "interpreter.allocate_tensors()\n",
        "\n",
        "# Get input and output details\n",
        "input_details = interpreter.get_input_details()\n",
        "output_details = interpreter.get_output_details()"
      ],
      "metadata": {
        "colab": {
          "base_uri": "https://localhost:8080/"
        },
        "id": "eg8GKMjjJZD1",
        "outputId": "439ee7b7-0036-44ea-a869-ebb5ededa93b"
      },
      "execution_count": null,
      "outputs": [
        {
          "output_type": "stream",
          "name": "stderr",
          "text": [
            "/usr/local/lib/python3.10/dist-packages/keras/src/layers/reshaping/flatten.py:37: UserWarning: Do not pass an `input_shape`/`input_dim` argument to a layer. When using Sequential models, prefer using an `Input(shape)` object as the first layer in the model instead.\n",
            "  super().__init__(**kwargs)\n"
          ]
        },
        {
          "output_type": "stream",
          "name": "stdout",
          "text": [
            "Epoch 1/5\n",
            "\u001b[1m1875/1875\u001b[0m \u001b[32m━━━━━━━━━━━━━━━━━━━━\u001b[0m\u001b[37m\u001b[0m \u001b[1m8s\u001b[0m 4ms/step - accuracy: 0.8709 - loss: 0.4449 - val_accuracy: 0.9515 - val_loss: 0.1609\n",
            "Epoch 2/5\n",
            "\u001b[1m1875/1875\u001b[0m \u001b[32m━━━━━━━━━━━━━━━━━━━━\u001b[0m\u001b[37m\u001b[0m \u001b[1m8s\u001b[0m 3ms/step - accuracy: 0.9632 - loss: 0.1235 - val_accuracy: 0.9721 - val_loss: 0.0908\n",
            "Epoch 3/5\n",
            "\u001b[1m1875/1875\u001b[0m \u001b[32m━━━━━━━━━━━━━━━━━━━━\u001b[0m\u001b[37m\u001b[0m \u001b[1m8s\u001b[0m 4ms/step - accuracy: 0.9772 - loss: 0.0781 - val_accuracy: 0.9749 - val_loss: 0.0855\n",
            "Epoch 4/5\n",
            "\u001b[1m1875/1875\u001b[0m \u001b[32m━━━━━━━━━━━━━━━━━━━━\u001b[0m\u001b[37m\u001b[0m \u001b[1m10s\u001b[0m 4ms/step - accuracy: 0.9830 - loss: 0.0577 - val_accuracy: 0.9785 - val_loss: 0.0730\n",
            "Epoch 5/5\n",
            "\u001b[1m1875/1875\u001b[0m \u001b[32m━━━━━━━━━━━━━━━━━━━━\u001b[0m\u001b[37m\u001b[0m \u001b[1m6s\u001b[0m 3ms/step - accuracy: 0.9861 - loss: 0.0438 - val_accuracy: 0.9751 - val_loss: 0.0809\n"
          ]
        },
        {
          "output_type": "stream",
          "name": "stderr",
          "text": [
            "WARNING:absl:You are saving your model as an HDF5 file via `model.save()` or `keras.saving.save_model(model)`. This file format is considered legacy. We recommend using instead the native Keras format, e.g. `model.save('my_model.keras')` or `keras.saving.save_model(model, 'my_model.keras')`. \n"
          ]
        },
        {
          "output_type": "stream",
          "name": "stdout",
          "text": [
            "Saved artifact at '/tmp/tmpbqhii5_z'. The following endpoints are available:\n",
            "\n",
            "* Endpoint 'serve'\n",
            "  args_0 (POSITIONAL_ONLY): TensorSpec(shape=(None, 28, 28), dtype=tf.float32, name='keras_tensor_12')\n",
            "Output Type:\n",
            "  TensorSpec(shape=(None, 10), dtype=tf.float32, name=None)\n",
            "Captures:\n",
            "  136232084710928: TensorSpec(shape=(), dtype=tf.resource, name=None)\n",
            "  136232085095696: TensorSpec(shape=(), dtype=tf.resource, name=None)\n",
            "  136232080379568: TensorSpec(shape=(), dtype=tf.resource, name=None)\n",
            "  136232085097632: TensorSpec(shape=(), dtype=tf.resource, name=None)\n",
            "Quantized model saved as 'mnist_model_quantized.tflite'.\n"
          ]
        }
      ]
    },
    {
      "cell_type": "code",
      "source": [
        "import matplotlib.pyplot as plt\n",
        "\n",
        "# Allow user to input a test image index\n",
        "try:\n",
        "    user_input = int(input(f\"Enter the index of the test image (0-{len(x_test) - 1}): \"))\n",
        "    if 0 <= user_input < len(x_test):\n",
        "        # Show the image\n",
        "        plt.imshow(x_test[user_input], cmap='gray')\n",
        "        plt.title(f\"True label: {y_test[user_input]}\")\n",
        "        plt.axis('off')\n",
        "        plt.show()\n",
        "\n",
        "        # Test the selected image\n",
        "        test_image = x_test[user_input:user_input + 1].astype('float32')\n",
        "        interpreter.set_tensor(input_details[0]['index'], test_image)\n",
        "        interpreter.invoke()\n",
        "        output_data = interpreter.get_tensor(output_details[0]['index'])\n",
        "        print(f\"Quantized model prediction: {output_data.argmax()}, True label: {y_test[user_input]}\")\n",
        "    else:\n",
        "        print(\"Invalid index! Please enter a number within the valid range.\")\n",
        "except ValueError:\n",
        "    print(\"Invalid input! Please enter a valid integer.\")\n"
      ],
      "metadata": {
        "colab": {
          "base_uri": "https://localhost:8080/",
          "height": 463
        },
        "id": "Fklv3V-AJzfu",
        "outputId": "be0fed46-8205-43ee-f09f-1de957431917"
      },
      "execution_count": null,
      "outputs": [
        {
          "name": "stdout",
          "output_type": "stream",
          "text": [
            "Enter the index of the test image (0-9999): 123\n"
          ]
        },
        {
          "output_type": "display_data",
          "data": {
            "text/plain": [
              "<Figure size 640x480 with 1 Axes>"
            ],
            "image/png": "[encoded data removed]"
          },
          "metadata": {}
        },
        {
          "output_type": "stream",
          "name": "stdout",
          "text": [
            "Quantized model prediction: 6, True label: 6\n"
          ]
        }
      ]
    },
    {
      "cell_type": "code",
      "source": [
        "import matplotlib.pyplot as plt\n",
        "\n",
        "# Allow user to input a test image index\n",
        "try:\n",
        "    user_input = int(input(f\"Enter the index of the test image (0-{len(x_test) - 1}): \"))\n",
        "    if 0 <= user_input < len(x_test):\n",
        "        # Show the image\n",
        "        plt.imshow(x_test[user_input], cmap='gray')\n",
        "        plt.title(f\"True label: {y_test[user_input]}\")\n",
        "        plt.axis('off')\n",
        "        plt.show()\n",
        "\n",
        "        # Test the selected image\n",
        "        test_image = x_test[user_input:user_input + 1].astype('float32')\n",
        "        interpreter.set_tensor(input_details[0]['index'], test_image)\n",
        "        interpreter.invoke()\n",
        "        output_data = interpreter.get_tensor(output_details[0]['index'])\n",
        "        print(f\"Quantized model prediction: {output_data.argmax()}, True label: {y_test[user_input]}\")\n",
        "    else:\n",
        "        print(\"Invalid index! Please enter a number within the valid range.\")\n",
        "except ValueError:\n",
        "    print(\"Invalid input! Please enter a valid integer.\")\n"
      ],
      "metadata": {
        "colab": {
          "base_uri": "https://localhost:8080/",
          "height": 463
        },
        "id": "DTewLWxQJ8jn",
        "outputId": "772ecc1e-335a-467d-f8d4-bd3cdd0ee20d"
      },
      "execution_count": null,
      "outputs": [
        {
          "name": "stdout",
          "output_type": "stream",
          "text": [
            "Enter the index of the test image (0-9999): 687\n"
          ]
        },
        {
          "output_type": "display_data",
          "data": {
            "text/plain": [
              "<Figure size 640x480 with 1 Axes>"
            ],
            "image/png": "[encoded data removed]"
          },
          "metadata": {}
        },
        {
          "output_type": "stream",
          "name": "stdout",
          "text": [
            "Quantized model prediction: 3, True label: 3\n"
          ]
        }
      ]
    },
    {
      "cell_type": "code",
      "source": [
        "import matplotlib.pyplot as plt\n",
        "\n",
        "# Allow user to input a test image index\n",
        "try:\n",
        "    user_input = int(input(f\"Enter the index of the test image (0-{len(x_test) - 1}): \"))\n",
        "    if 0 <= user_input < len(x_test):\n",
        "        # Show the image\n",
        "        plt.imshow(x_test[user_input], cmap='gray')\n",
        "        plt.title(f\"True label: {y_test[user_input]}\")\n",
        "        plt.axis('off')\n",
        "        plt.show()\n",
        "\n",
        "        # Test the selected image\n",
        "        test_image = x_test[user_input:user_input + 1].astype('float32')\n",
        "        interpreter.set_tensor(input_details[0]['index'], test_image)\n",
        "        interpreter.invoke()\n",
        "        output_data = interpreter.get_tensor(output_details[0]['index'])\n",
        "        print(f\"Quantized model prediction: {output_data.argmax()}, True label: {y_test[user_input]}\")\n",
        "    else:\n",
        "        print(\"Invalid index! Please enter a number within the valid range.\")\n",
        "except ValueError:\n",
        "    print(\"Invalid input! Please enter a valid integer.\")\n"
      ],
      "metadata": {
        "colab": {
          "base_uri": "https://localhost:8080/",
          "height": 463
        },
        "id": "HdzkVQYgJ9Ni",
        "outputId": "2dbc6f69-1c30-447e-cc9c-f04cc44dca0c"
      },
      "execution_count": null,
      "outputs": [
        {
          "name": "stdout",
          "output_type": "stream",
          "text": [
            "Enter the index of the test image (0-9999): 9876\n"
          ]
        },
        {
          "output_type": "display_data",
          "data": {
            "text/plain": [
              "<Figure size 640x480 with 1 Axes>"
            ],
            "image/png": "[encoded data removed]"
          },
          "metadata": {}
        },
        {
          "output_type": "stream",
          "name": "stdout",
          "text": [
            "Quantized model prediction: 1, True label: 1\n"
          ]
        }
      ]
    }
  ]
}