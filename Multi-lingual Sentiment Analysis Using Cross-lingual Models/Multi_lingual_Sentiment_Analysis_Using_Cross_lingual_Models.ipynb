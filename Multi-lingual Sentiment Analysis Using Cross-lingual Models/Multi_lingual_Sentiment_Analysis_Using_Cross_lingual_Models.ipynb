{
  "nbformat": 4,
  "nbformat_minor": 0,
  "metadata": {
    "colab": {
      "provenance": []
    },
    "kernelspec": {
      "name": "python3",
      "display_name": "Python 3"
    },
    "language_info": {
      "name": "python"
    }
  },
  "cells": [
    {
      "cell_type": "code",
      "execution_count": 5,
      "metadata": {
        "colab": {
          "base_uri": "https://localhost:8080/"
        },
        "id": "HO1cYALqbKs4",
        "outputId": "a98d1e80-319c-466c-bf6e-2d51109cc297"
      },
      "outputs": [
        {
          "output_type": "stream",
          "name": "stdout",
          "text": [
            "Requirement already satisfied: transformers in /usr/local/lib/python3.10/dist-packages (4.46.2)\n",
            "Requirement already satisfied: torch in /usr/local/lib/python3.10/dist-packages (2.5.1+cu121)\n",
            "Requirement already satisfied: filelock in /usr/local/lib/python3.10/dist-packages (from transformers) (3.16.1)\n",
            "Requirement already satisfied: huggingface-hub<1.0,>=0.23.2 in /usr/local/lib/python3.10/dist-packages (from transformers) (0.26.2)\n",
            "Requirement already satisfied: numpy>=1.17 in /usr/local/lib/python3.10/dist-packages (from transformers) (1.26.4)\n",
            "Requirement already satisfied: packaging>=20.0 in /usr/local/lib/python3.10/dist-packages (from transformers) (24.2)\n",
            "Requirement already satisfied: pyyaml>=5.1 in /usr/local/lib/python3.10/dist-packages (from transformers) (6.0.2)\n",
            "Requirement already satisfied: regex!=2019.12.17 in /usr/local/lib/python3.10/dist-packages (from transformers) (2024.9.11)\n",
            "Requirement already satisfied: requests in /usr/local/lib/python3.10/dist-packages (from transformers) (2.32.3)\n",
            "Requirement already satisfied: safetensors>=0.4.1 in /usr/local/lib/python3.10/dist-packages (from transformers) (0.4.5)\n",
            "Requirement already satisfied: tokenizers<0.21,>=0.20 in /usr/local/lib/python3.10/dist-packages (from transformers) (0.20.3)\n",
            "Requirement already satisfied: tqdm>=4.27 in /usr/local/lib/python3.10/dist-packages (from transformers) (4.66.6)\n",
            "Requirement already satisfied: typing-extensions>=4.8.0 in /usr/local/lib/python3.10/dist-packages (from torch) (4.12.2)\n",
            "Requirement already satisfied: networkx in /usr/local/lib/python3.10/dist-packages (from torch) (3.4.2)\n",
            "Requirement already satisfied: jinja2 in /usr/local/lib/python3.10/dist-packages (from torch) (3.1.4)\n",
            "Requirement already satisfied: fsspec in /usr/local/lib/python3.10/dist-packages (from torch) (2024.10.0)\n",
            "Requirement already satisfied: sympy==1.13.1 in /usr/local/lib/python3.10/dist-packages (from torch) (1.13.1)\n",
            "Requirement already satisfied: mpmath<1.4,>=1.1.0 in /usr/local/lib/python3.10/dist-packages (from sympy==1.13.1->torch) (1.3.0)\n",
            "Requirement already satisfied: MarkupSafe>=2.0 in /usr/local/lib/python3.10/dist-packages (from jinja2->torch) (3.0.2)\n",
            "Requirement already satisfied: charset-normalizer<4,>=2 in /usr/local/lib/python3.10/dist-packages (from requests->transformers) (3.4.0)\n",
            "Requirement already satisfied: idna<4,>=2.5 in /usr/local/lib/python3.10/dist-packages (from requests->transformers) (3.10)\n",
            "Requirement already satisfied: urllib3<3,>=1.21.1 in /usr/local/lib/python3.10/dist-packages (from requests->transformers) (2.2.3)\n",
            "Requirement already satisfied: certifi>=2017.4.17 in /usr/local/lib/python3.10/dist-packages (from requests->transformers) (2024.8.30)\n"
          ]
        }
      ],
      "source": [
        "!pip install transformers torch"
      ]
    },
    {
      "cell_type": "code",
      "source": [
        "from transformers import pipeline, AutoTokenizer, AutoModelForSequenceClassification\n",
        "\n",
        "# Load the pre-trained cross-lingual model (XLM-RoBERTa)\n",
        "model_name = \"cardiffnlp/twitter-xlm-roberta-base-sentiment\"  # Pretrained for multilingual sentiment analysis\n",
        "\n",
        "# Load tokenizer and model\n",
        "tokenizer = AutoTokenizer.from_pretrained(model_name)\n",
        "model = AutoModelForSequenceClassification.from_pretrained(model_name)"
      ],
      "metadata": {
        "id": "1eucyYfJbXJP"
      },
      "execution_count": 6,
      "outputs": []
    },
    {
      "cell_type": "code",
      "source": [
        "# Create a sentiment analysis pipeline\n",
        "sentiment_analyzer = pipeline(\"sentiment-analysis\", model=model, tokenizer=tokenizer)\n",
        "\n",
        "# Input: Multilingual texts\n",
        "texts = [\n",
        "    \"I love this product! It's amazing.\",   # English\n",
        "    \"எனக்கு இந்த தயாரிப்பு மிகவும் பிடித்துள்ளது! இது அற்புதமாக உள்ளது.\", # Tamil,\n",
        "    \"この製品が大好きです！素晴らしいです。\" , # Japanese\n",
        "    \"¡Me encanta este producto! Es increíble.\",  # Spanish\n",
        "    \"Ich liebe dieses Produkt! Es ist erstaunlich.\",  # German\n",
        "    \"J'adore ce produit ! C'est incroyable.\",  # French\n",
        "    \"मुझे यह उत्पाद बहुत पसंद है! यह अद्भुत है।\" #Hindi\n",
        "\n",
        "]\n",
        "\n",
        "# Perform sentiment analysis\n",
        "results = sentiment_analyzer(texts)\n",
        "\n",
        "# Output results\n",
        "for text, result in zip(texts, results):\n",
        "    print(f\"Text: {text}\\nSentiment: {result['label']} (Confidence: {result['score']:.2f})\\n\")"
      ],
      "metadata": {
        "colab": {
          "base_uri": "https://localhost:8080/"
        },
        "id": "Z9HefuCmb84T",
        "outputId": "3d884806-baa5-4d08-90be-711d8b77f4bc"
      },
      "execution_count": 18,
      "outputs": [
        {
          "output_type": "stream",
          "name": "stdout",
          "text": [
            "Text: I love this product! It's amazing.\n",
            "Sentiment: positive (Confidence: 0.94)\n",
            "\n",
            "Text: எனக்கு இந்த தயாரிப்பு மிகவும் பிடித்துள்ளது! இது அற்புதமாக உள்ளது.\n",
            "Sentiment: positive (Confidence: 0.90)\n",
            "\n",
            "Text: この製品が大好きです！素晴らしいです。\n",
            "Sentiment: positive (Confidence: 0.93)\n",
            "\n",
            "Text: ¡Me encanta este producto! Es increíble.\n",
            "Sentiment: positive (Confidence: 0.95)\n",
            "\n",
            "Text: Ich liebe dieses Produkt! Es ist erstaunlich.\n",
            "Sentiment: positive (Confidence: 0.95)\n",
            "\n",
            "Text: J'adore ce produit ! C'est incroyable.\n",
            "Sentiment: positive (Confidence: 0.95)\n",
            "\n",
            "Text: मुझे यह उत्पाद बहुत पसंद है! यह अद्भुत है।\n",
            "Sentiment: positive (Confidence: 0.91)\n",
            "\n"
          ]
        }
      ]
    },
    {
      "cell_type": "code",
      "source": [
        "texts = [\n",
        "    \"I hate this product.\",   # English\n",
        "    \"எனக்கு இந்த தயாரிப்பு வெறுப்பாக உள்ளது.\",# Tamil\n",
        "    \"この製品が嫌いです。\" , # Japanese\n",
        "    \"Odio este producto.\",  # Spanish\n",
        "    \"Ich hasse dieses Produkt.\",  # German\n",
        "    \"Je déteste ce produit.\",  # French\n",
        "    \"मुझे यह उत्पाद बिलकुल पसंद नहीं है।\" # Hindi\n",
        "]\n",
        "\n",
        "# Perform sentiment analysis\n",
        "results = sentiment_analyzer(texts)\n",
        "\n",
        "# Output results\n",
        "for text, result in zip(texts, results):\n",
        "    print(f\"Text: {text}\\nSentiment: {result['label']} (Confidence: {result['score']:.2f})\\n\")"
      ],
      "metadata": {
        "colab": {
          "base_uri": "https://localhost:8080/"
        },
        "id": "qmne94JneWAF",
        "outputId": "0ea77b08-c70c-4096-8bc1-586729e02312"
      },
      "execution_count": 20,
      "outputs": [
        {
          "output_type": "stream",
          "name": "stdout",
          "text": [
            "Text: I hate this product.\n",
            "Sentiment: negative (Confidence: 0.95)\n",
            "\n",
            "Text: எனக்கு இந்த தயாரிப்பு வெறுப்பாக உள்ளது.\n",
            "Sentiment: negative (Confidence: 0.93)\n",
            "\n",
            "Text: この製品が嫌いです。\n",
            "Sentiment: negative (Confidence: 0.95)\n",
            "\n",
            "Text: Odio este producto.\n",
            "Sentiment: negative (Confidence: 0.96)\n",
            "\n",
            "Text: Ich hasse dieses Produkt.\n",
            "Sentiment: negative (Confidence: 0.96)\n",
            "\n",
            "Text: Je déteste ce produit.\n",
            "Sentiment: negative (Confidence: 0.96)\n",
            "\n",
            "Text: मुझे यह उत्पाद बिलकुल पसंद नहीं है।\n",
            "Sentiment: negative (Confidence: 0.84)\n",
            "\n"
          ]
        }
      ]
    },
    {
      "cell_type": "code",
      "source": [
        "texts = [\n",
        "    \"The meeting is scheduled for tomorrow.\",   # English\n",
        "    \"கூட்டம் நாளை வழமையாக நிரந்தரமாக செய்யப்பட்டுள்ளது.\",# Tamil\n",
        "    \"会議は明日に予定されています。\" , # Japanese\n",
        "    \"La reunión está programada para mañana.\",  # Spanish\n",
        "    \"Das Treffen ist für morgen angesetzt.\",  # German\n",
        "    \"La réunion est prévue pour demain.\",  # French\n",
        "    \"बैठक कल के लिए निर्धारित है।\" # Hindi\n",
        "]\n",
        "\n",
        "# Perform sentiment analysis\n",
        "results = sentiment_analyzer(texts)\n",
        "\n",
        "# Output results\n",
        "for text, result in zip(texts, results):\n",
        "    print(f\"Text: {text}\\nSentiment: {result['label']} (Confidence: {result['score']:.2f})\\n\")"
      ],
      "metadata": {
        "colab": {
          "base_uri": "https://localhost:8080/"
        },
        "id": "BwKgV3EBit0q",
        "outputId": "19ae02b2-4a2b-42f7-b912-669dfe1cc67f"
      },
      "execution_count": 22,
      "outputs": [
        {
          "output_type": "stream",
          "name": "stdout",
          "text": [
            "Text: The meeting is scheduled for tomorrow.\n",
            "Sentiment: neutral (Confidence: 0.82)\n",
            "\n",
            "Text: கூட்டம் நாளை வழமையாக நிரந்தரமாக செய்யப்பட்டுள்ளது.\n",
            "Sentiment: neutral (Confidence: 0.76)\n",
            "\n",
            "Text: 会議は明日に予定されています。\n",
            "Sentiment: neutral (Confidence: 0.83)\n",
            "\n",
            "Text: La reunión está programada para mañana.\n",
            "Sentiment: neutral (Confidence: 0.82)\n",
            "\n",
            "Text: Das Treffen ist für morgen angesetzt.\n",
            "Sentiment: neutral (Confidence: 0.83)\n",
            "\n",
            "Text: La réunion est prévue pour demain.\n",
            "Sentiment: neutral (Confidence: 0.74)\n",
            "\n",
            "Text: बैठक कल के लिए निर्धारित है।\n",
            "Sentiment: neutral (Confidence: 0.58)\n",
            "\n"
          ]
        }
      ]
    }
  ]
}